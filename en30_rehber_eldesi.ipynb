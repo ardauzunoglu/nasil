{
  "nbformat": 4,
  "nbformat_minor": 0,
  "metadata": {
    "colab": {
      "name": "en30-rehber-eldesi.ipynb",
      "provenance": []
    },
    "kernelspec": {
      "name": "python3",
      "display_name": "Python 3"
    },
    "language_info": {
      "name": "python"
    }
  },
  "cells": [
    {
      "cell_type": "code",
      "execution_count": null,
      "metadata": {
        "id": "-VGoWwtg-xlH"
      },
      "outputs": [],
      "source": [
        "!pip install faiss\n",
        "!pip install sentence-transformers\n",
        "!sudo apt-get install libomp-dev"
      ]
    },
    {
      "cell_type": "code",
      "source": [
        "titles = [title.replace(\"\\n\", \"\").replace(\"How to\", \"\").replace(\"- wikiHow\", \"\").strip().replace(\"İ\", \"i\").replace(\"I\", \"ı\").lower() for title in open(\"/content/drive/MyDrive/necessities/data/titles_tr.txt\", \"r\", encoding=\"utf-8\").readlines()]"
      ],
      "metadata": {
        "id": "X4N6XJ_Z-4hP"
      },
      "execution_count": null,
      "outputs": []
    },
    {
      "cell_type": "code",
      "source": [
        "from sentence_transformers import SentenceTransformer, util\n",
        "\n",
        "model = SentenceTransformer(\"sts-pseudo_nli-dbmdz-convbert-base-turkish-mc4-uncased\")\n",
        "\n",
        "title_embeddings = model.encode(titles)\n",
        "print(\"Title embeddings tamamlandı.\")"
      ],
      "metadata": {
        "id": "cnsNin6x-6bY"
      },
      "execution_count": null,
      "outputs": []
    },
    {
      "cell_type": "code",
      "source": [
        "import faiss\n",
        "\n",
        "d = title_embeddings.shape[1]\n",
        "\n",
        "index = faiss.IndexFlatL2(d)\n",
        "index.add(title_embeddings)\n",
        "index.ntotal"
      ],
      "metadata": {
        "id": "afL7s0nE--df"
      },
      "execution_count": null,
      "outputs": []
    },
    {
      "cell_type": "code",
      "source": [
        "import json\n",
        "retrieval_dict = {}\n",
        "step2goal = json.load(open(\"/content/drive/MyDrive/necessities/data/step2goal.json\", \"r\", encoding=\"utf-8\"))"
      ],
      "metadata": {
        "id": "3UgnRgQt_CkL"
      },
      "execution_count": null,
      "outputs": []
    },
    {
      "cell_type": "code",
      "source": [
        "print(len(step2goal.keys()))"
      ],
      "metadata": {
        "id": "E7T_w11D_Drq"
      },
      "execution_count": null,
      "outputs": []
    },
    {
      "cell_type": "code",
      "source": [
        "for step in list(step2goal.keys()):\n",
        "  print(list(step2goal.keys()).index(step))\n",
        "  step_embedding = model.encode(step.replace(\"İ\", \"i\").replace(\"I\", \"ı\").lower()).reshape((1, title_embeddings.shape[1]))\n",
        "  corresponding_goal = step2goal[step]\n",
        "  gold_goal = None\n",
        "  \n",
        "  k = 30\n",
        "  D, I = index.search(step_embedding, k)\n",
        "\n",
        "  retrieved_goals = []\n",
        "  retrieved_goals_similarity = []\n",
        "  for i in range(len(I[0])):\n",
        "    retrieved_goal_embedding = model.encode(titles[I[0][i]])\n",
        "    cosine_scores = util.cos_sim(step_embedding, retrieved_goal_embedding)\n",
        "\n",
        "    goal = titles[I[0][i]]\n",
        "    if goal[0] == \"i\":\n",
        "      goal = \"İ\" + goal[1:]\n",
        "\n",
        "    elif goal[0] == \"ı\":\n",
        "      goal = \"I\" + goal[1:]\n",
        "\n",
        "    else:\n",
        "      goal = goal.capitalize()\n",
        "\n",
        "\n",
        "    retrieved_goals.append(goal)\n",
        "    retrieved_goals_similarity.append(float(cosine_scores[0][0]))\n",
        "  \n",
        "  retrieved_description_similarity = []\n",
        "  weighted_sum_similarity = []\n",
        "  retrieved_goal_rank = -1\n",
        "\n",
        "  retrieval_dict[step] = {\"corresponding_goal\":corresponding_goal, \"gold_goal\":gold_goal, \"retrieved_goals\":retrieved_goals, \"retrieved_goals_similarity\":retrieved_goals_similarity, \"retrieved_description_similarity\":retrieved_description_similarity, \"weighted_sum_similarity\":weighted_sum_similarity, \"retrieved_goal_rank\":retrieved_goal_rank}"
      ],
      "metadata": {
        "id": "rj1BIJ-c_EIQ"
      },
      "execution_count": null,
      "outputs": []
    },
    {
      "cell_type": "code",
      "source": [
        "with open(\"tüm_wikihow_e30.json\", \"w\", encoding=\"utf-8\") as outfile:\n",
        "    json.dump(retrieval_dict, outfile, indent=3, ensure_ascii=False)"
      ],
      "metadata": {
        "id": "DIfpC7Px_JTG"
      },
      "execution_count": null,
      "outputs": []
    }
  ]
}
