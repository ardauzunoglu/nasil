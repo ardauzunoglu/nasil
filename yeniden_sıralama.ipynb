{
  "nbformat": 4,
  "nbformat_minor": 0,
  "metadata": {
    "colab": {
      "name": "yeniden-sıralama.ipynb",
      "provenance": []
    },
    "kernelspec": {
      "name": "python3",
      "display_name": "Python 3"
    },
    "language_info": {
      "name": "python"
    }
  },
  "cells": [
    {
      "cell_type": "code",
      "execution_count": null,
      "metadata": {
        "id": "H9ZI2bW0hbAZ"
      },
      "outputs": [],
      "source": [
        "!python reranking/inference.py \\\n",
        "--model_path bert-base.reranker.pt \\\n",
        "--test_path all_wikihow_steps_t30_goals.json \\\n",
        "--save_path all.result \\"
      ]
    }
  ]
}